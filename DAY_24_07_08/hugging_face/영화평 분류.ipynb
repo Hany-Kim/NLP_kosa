{
 "cells": [
  {
   "cell_type": "code",
   "execution_count": 1,
   "id": "ce8cf9a5-7070-4204-bec6-fe0eb2552df7",
   "metadata": {},
   "outputs": [],
   "source": [
    "from datasets import load_dataset\n",
    "\n",
    "# 예제 데이터셋을 로드\n",
    "dataset = load_dataset(\"imdb\")\n",
    "train_dataset = dataset[\"train\"]\n",
    "test_dataset = dataset[\"test\"]"
   ]
  },
  {
   "cell_type": "code",
   "execution_count": 2,
   "id": "a0e0aa5b-4f01-49b5-8b62-b0096b59a88e",
   "metadata": {},
   "outputs": [],
   "source": [
    "from transformers import BertTokenizer\n",
    "\n",
    "# 토크나이저 로드\n",
    "tokenizer = BertTokenizer.from_pretrained(\"bert-base-uncased\")"
   ]
  },
  {
   "cell_type": "code",
   "execution_count": 3,
   "id": "7c0fdcab-1395-4e68-824b-90aa6b3d3565",
   "metadata": {},
   "outputs": [],
   "source": [
    "# 데이터 전처리 함수 정의\n",
    "def preprocess_function(examples):\n",
    "    return tokenizer(examples[\"text\"], padding=\"max_length\", truncation=True)"
   ]
  },
  {
   "cell_type": "code",
   "execution_count": 4,
   "id": "9a9bf2f3-4390-45a3-a6bd-c1deaef94c9f",
   "metadata": {},
   "outputs": [],
   "source": [
    "# 데이터셋을 처리\n",
    "train_dataset = train_dataset.map(preprocess_function, batched=True)\n",
    "test_dataset = test_dataset.map(preprocess_function, batched=True)"
   ]
  },
  {
   "cell_type": "code",
   "execution_count": 5,
   "id": "aaae23dc-e08b-49af-89bd-07508b252268",
   "metadata": {},
   "outputs": [],
   "source": [
    "# 훈련 데이터셋과 테스트 데이터셋을 TensorFlow 형식으로 변환\n",
    "import numpy as np\n",
    "\n",
    "train_input_ids = np.array([example['input_ids'] for example in train_dataset])\n",
    "train_attention_masks = np.array([example['attention_mask'] for example in train_dataset])\n",
    "train_token_type_ids = np.array([example['token_type_ids'] for example in train_dataset])\n",
    "train_labels = np.array(train_dataset['label'])\n",
    "\n",
    "test_input_ids = np.array([example['input_ids'] for example in test_dataset])\n",
    "test_attention_masks = np.array([example['attention_mask'] for example in test_dataset])\n",
    "test_token_type_ids = np.array([example['token_type_ids'] for example in test_dataset])\n",
    "test_labels = np.array(test_dataset['label'])"
   ]
  },
  {
   "cell_type": "code",
   "execution_count": 6,
   "id": "8756c5b1-da62-4fce-8be2-0d07d66e031f",
   "metadata": {},
   "outputs": [
    {
     "name": "stderr",
     "output_type": "stream",
     "text": [
      "All PyTorch model weights were used when initializing TFBertForSequenceClassification.\n",
      "\n",
      "Some weights or buffers of the TF 2.0 model TFBertForSequenceClassification were not initialized from the PyTorch model and are newly initialized: ['classifier.weight', 'classifier.bias']\n",
      "You should probably TRAIN this model on a down-stream task to be able to use it for predictions and inference.\n"
     ]
    }
   ],
   "source": [
    "from transformers import TFBertForSequenceClassification\n",
    "import tensorflow as tf\n",
    "\n",
    "# TensorFlow 모델 로드\n",
    "model = TFBertForSequenceClassification.from_pretrained(\"bert-base-uncased\", num_labels=2)\n",
    "\n",
    "# 훈련 설정\n",
    "model.compile(optimizer='adam',\n",
    "              loss='sparse_categorical_crossentropy',\n",
    "              metrics=['accuracy'])"
   ]
  },
  {
   "cell_type": "code",
   "execution_count": null,
   "id": "439777f4-dec2-4413-8c88-58b409763e03",
   "metadata": {},
   "outputs": [
    {
     "name": "stdout",
     "output_type": "stream",
     "text": [
      "Epoch 1/3\n",
      "2922/6250 [=============>................] - ETA: 5:32:15 - loss: 0.7068 - accuracy: 0.5050"
     ]
    }
   ],
   "source": [
    "# 훈련\n",
    "model.fit(\n",
    "    {\"input_ids\": train_input_ids,\n",
    "     \"attention_mask\": train_attention_masks,\n",
    "     \"token_type_ids\": train_token_type_ids},\n",
    "    train_labels,\n",
    "    batch_size=4,\n",
    "    epochs=3\n",
    ")"
   ]
  },
  {
   "cell_type": "code",
   "execution_count": null,
   "id": "da83f416-730c-4975-8d89-40bb022de06e",
   "metadata": {},
   "outputs": [],
   "source": [
    "# 평가\n",
    "results = model.evaluate(\n",
    "    {\"input_ids\": test_input_ids,\n",
    "     \"attention_mask\": test_attention_masks,\n",
    "     \"token_type_ids\": test_token_type_ids},\n",
    "    test_labels\n",
    ")\n",
    "print(results)"
   ]
  },
  {
   "cell_type": "code",
   "execution_count": null,
   "id": "e3d7f970-ccbc-4761-ad43-1f4960231387",
   "metadata": {},
   "outputs": [],
   "source": []
  }
 ],
 "metadata": {
  "kernelspec": {
   "display_name": "tf2.14",
   "language": "python",
   "name": "tf2.14"
  },
  "language_info": {
   "codemirror_mode": {
    "name": "ipython",
    "version": 3
   },
   "file_extension": ".py",
   "mimetype": "text/x-python",
   "name": "python",
   "nbconvert_exporter": "python",
   "pygments_lexer": "ipython3",
   "version": "3.11.9"
  }
 },
 "nbformat": 4,
 "nbformat_minor": 5
}
